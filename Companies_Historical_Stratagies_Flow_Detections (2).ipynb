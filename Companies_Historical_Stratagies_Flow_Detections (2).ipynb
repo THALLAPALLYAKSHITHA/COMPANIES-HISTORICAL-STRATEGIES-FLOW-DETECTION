{
  "nbformat": 4,
  "nbformat_minor": 0,
  "metadata": {
    "colab": {
      "provenance": []
    },
    "kernelspec": {
      "name": "python3",
      "display_name": "Python 3"
    },
    "language_info": {
      "name": "python"
    }
  },
  "cells": [
    {
      "cell_type": "code",
      "source": [
        "# Step 1: Import necessary libraries\n",
        "import numpy as np\n",
        "import pandas as pd\n",
        "import matplotlib.pyplot as plt\n",
        "from sklearn.model_selection import train_test_split\n",
        "from sklearn.svm import SVC\n",
        "from sklearn.metrics import accuracy_score, classification_report, confusion_matrix\n",
        "from tensorflow import keras\n",
        "from tensorflow.keras.models import Sequential\n",
        "from tensorflow.keras.layers import Dense, Conv2D, MaxPooling2D, Flatten\n",
        "from sklearn.model_selection import train_test_split\n",
        "from sklearn.ensemble import RandomForestClassifier\n",
        "import tensorflow as tf\n",
        "import seaborn as sns\n",
        "from sklearn.preprocessing import StandardScaler\n",
        "from sklearn.tree import DecisionTreeClassifier\n",
        "from sklearn.linear_model import LogisticRegression\n",
        "from sklearn.neighbors import KNeighborsClassifier\n",
        "from sklearn.metrics import classification_report\n",
        "from sklearn.metrics import confusion_matrix\n",
        "from keras.models import Sequential\n",
        "from keras.layers import Dense"
      ],
      "metadata": {
        "id": "TNdKOYRjNR3j"
      },
      "execution_count": null,
      "outputs": []
    },
    {
      "cell_type": "code",
      "source": [
        "# Load the dataset\n",
        "# Assuming you have a CSV file named 'company_strategies.csv' with historical data\n",
        "data = pd.read_csv('companies_stratagies.csv')\n",
        "print(data)"
      ],
      "metadata": {
        "colab": {
          "base_uri": "https://localhost:8080/"
        },
        "id": "ZlNMio91NnEN",
        "outputId": "6a3333af-a2f7-4023-fd80-0452baec8c8b"
      },
      "execution_count": null,
      "outputs": [
        {
          "output_type": "stream",
          "name": "stdout",
          "text": [
            "       Employbl Company ID  Company_ID     Zip  Latitude  Longitude  \\\n",
            "0                        1         466   94107        38       -122   \n",
            "1                        2         457   94114        38       -122   \n",
            "2                        3         424     432        38       -122   \n",
            "3                        4         395   94103        38       -122   \n",
            "4                        5         408   94612        38       -122   \n",
            "...                    ...         ...     ...       ...        ...   \n",
            "70078                70081      107919  163100     69033          0   \n",
            "70079                70082      107920  163101     69034          0   \n",
            "70080                70083      107921  163102     69035          0   \n",
            "70081                70084      107922  163103     69036          0   \n",
            "70082                70085      107923  163104     69037          0   \n",
            "\n",
            "       R&D Spend  Administration  Marketing Spend   State  Profit  ...  \\\n",
            "0         165349          136898           471784     452  192262  ...   \n",
            "1         162598          151378           443899     413  191792  ...   \n",
            "2         153442          101146           407935     385  191050  ...   \n",
            "3         144372          118672           383200     390  182902  ...   \n",
            "4         142107           91392           366168     393  166188  ...   \n",
            "...          ...             ...              ...     ...     ...  ...   \n",
            "70078     161182          390732           350772  107617  403042  ...   \n",
            "70079     161182          390733           350773  107618  403043  ...   \n",
            "70080     161182          390734           350774  107619  403044  ...   \n",
            "70081     161182          390735           350775  107620  403045  ...   \n",
            "70082     161182          390736           350776  107621  403046  ...   \n",
            "\n",
            "            Category        ASIN Courier Status  Qty  currency  Amount  \\\n",
            "0                Set  B09KXVBD7Z        Shipped  0.0       INR   648.0   \n",
            "1              kurta  B09K3WFS32        Shipped  1.0       INR   406.0   \n",
            "2              kurta  B07WV4JV4D        Shipped  1.0       INR   329.0   \n",
            "3      Western Dress  B099NRCT7B        Shipped  0.0       INR   753.0   \n",
            "4                Top  B098714BZP        Shipped  1.0       INR   574.0   \n",
            "...              ...         ...            ...  ...       ...     ...   \n",
            "70078          kurta  B08YYSV9KT        Shipped  1.0       INR   590.0   \n",
            "70079            Set  B0894Y1W9Q        Shipped  1.0       INR  1199.0   \n",
            "70080            Set  B08YN9VTD5        Shipped  1.0       INR  1369.0   \n",
            "70081            Set  B08YNHJ96P        Shipped  1.0       INR  1099.0   \n",
            "70082            NaN         NaN            NaN  NaN       NaN     NaN   \n",
            "\n",
            "         ship-city   ship-state ship-postal-code    B2B  \n",
            "0           MUMBAI  MAHARASHTRA         400081.0  False  \n",
            "1        BENGALURU    KARNATAKA         560085.0  False  \n",
            "2      NAVI MUMBAI  MAHARASHTRA         410210.0   True  \n",
            "3       PUDUCHERRY   PUDUCHERRY         605008.0  False  \n",
            "4          CHENNAI   TAMIL NADU         600073.0  False  \n",
            "...            ...          ...              ...    ...  \n",
            "70078       MUMBAI  MAHARASHTRA         400003.0  False  \n",
            "70079        ERODE   TAMIL NADU         638011.0  False  \n",
            "70080        ERODE   TAMIL NADU         638011.0  False  \n",
            "70081        ERODE   TAMIL NADU         638011.0  False  \n",
            "70082          NaN          NaN              NaN    NaN  \n",
            "\n",
            "[70083 rows x 32 columns]\n"
          ]
        },
        {
          "output_type": "stream",
          "name": "stderr",
          "text": [
            "<ipython-input-4-e362a8ab6e17>:3: DtypeWarning: Columns (12,13,31) have mixed types. Specify dtype option on import or set low_memory=False.\n",
            "  data = pd.read_csv('companies_stratagies.csv')\n"
          ]
        }
      ]
    },
    {
      "cell_type": "code",
      "source": [
        "print(data.head)\n",
        "print(data.tail)\n",
        "print(data.describe)"
      ],
      "metadata": {
        "colab": {
          "base_uri": "https://localhost:8080/"
        },
        "id": "pIm0aBDQh2cl",
        "outputId": "c53db4cd-48b4-478e-fe1b-1a69fd54f894"
      },
      "execution_count": null,
      "outputs": [
        {
          "output_type": "stream",
          "name": "stdout",
          "text": [
            "<bound method NDFrame.head of        Employbl Company ID  Company_ID     Zip  Latitude  Longitude  \\\n",
            "0                        1         466   94107        38       -122   \n",
            "1                        2         457   94114        38       -122   \n",
            "2                        3         424     432        38       -122   \n",
            "3                        4         395   94103        38       -122   \n",
            "4                        5         408   94612        38       -122   \n",
            "...                    ...         ...     ...       ...        ...   \n",
            "70078                70081      107919  163100     69033          0   \n",
            "70079                70082      107920  163101     69034          0   \n",
            "70080                70083      107921  163102     69035          0   \n",
            "70081                70084      107922  163103     69036          0   \n",
            "70082                70085      107923  163104     69037          0   \n",
            "\n",
            "       R&D Spend  Administration  Marketing Spend   State  Profit  ...  \\\n",
            "0         165349          136898           471784     452  192262  ...   \n",
            "1         162598          151378           443899     413  191792  ...   \n",
            "2         153442          101146           407935     385  191050  ...   \n",
            "3         144372          118672           383200     390  182902  ...   \n",
            "4         142107           91392           366168     393  166188  ...   \n",
            "...          ...             ...              ...     ...     ...  ...   \n",
            "70078     161182          390732           350772  107617  403042  ...   \n",
            "70079     161182          390733           350773  107618  403043  ...   \n",
            "70080     161182          390734           350774  107619  403044  ...   \n",
            "70081     161182          390735           350775  107620  403045  ...   \n",
            "70082     161182          390736           350776  107621  403046  ...   \n",
            "\n",
            "            Category        ASIN Courier Status  Qty  currency  Amount  \\\n",
            "0                Set  B09KXVBD7Z        Shipped  0.0       INR   648.0   \n",
            "1              kurta  B09K3WFS32        Shipped  1.0       INR   406.0   \n",
            "2              kurta  B07WV4JV4D        Shipped  1.0       INR   329.0   \n",
            "3      Western Dress  B099NRCT7B        Shipped  0.0       INR   753.0   \n",
            "4                Top  B098714BZP        Shipped  1.0       INR   574.0   \n",
            "...              ...         ...            ...  ...       ...     ...   \n",
            "70078          kurta  B08YYSV9KT        Shipped  1.0       INR   590.0   \n",
            "70079            Set  B0894Y1W9Q        Shipped  1.0       INR  1199.0   \n",
            "70080            Set  B08YN9VTD5        Shipped  1.0       INR  1369.0   \n",
            "70081            Set  B08YNHJ96P        Shipped  1.0       INR  1099.0   \n",
            "70082            NaN         NaN            NaN  NaN       NaN     NaN   \n",
            "\n",
            "         ship-city   ship-state ship-postal-code    B2B  \n",
            "0           MUMBAI  MAHARASHTRA         400081.0  False  \n",
            "1        BENGALURU    KARNATAKA         560085.0  False  \n",
            "2      NAVI MUMBAI  MAHARASHTRA         410210.0   True  \n",
            "3       PUDUCHERRY   PUDUCHERRY         605008.0  False  \n",
            "4          CHENNAI   TAMIL NADU         600073.0  False  \n",
            "...            ...          ...              ...    ...  \n",
            "70078       MUMBAI  MAHARASHTRA         400003.0  False  \n",
            "70079        ERODE   TAMIL NADU         638011.0  False  \n",
            "70080        ERODE   TAMIL NADU         638011.0  False  \n",
            "70081        ERODE   TAMIL NADU         638011.0  False  \n",
            "70082          NaN          NaN              NaN    NaN  \n",
            "\n",
            "[70083 rows x 32 columns]>\n",
            "<bound method NDFrame.tail of        Employbl Company ID  Company_ID     Zip  Latitude  Longitude  \\\n",
            "0                        1         466   94107        38       -122   \n",
            "1                        2         457   94114        38       -122   \n",
            "2                        3         424     432        38       -122   \n",
            "3                        4         395   94103        38       -122   \n",
            "4                        5         408   94612        38       -122   \n",
            "...                    ...         ...     ...       ...        ...   \n",
            "70078                70081      107919  163100     69033          0   \n",
            "70079                70082      107920  163101     69034          0   \n",
            "70080                70083      107921  163102     69035          0   \n",
            "70081                70084      107922  163103     69036          0   \n",
            "70082                70085      107923  163104     69037          0   \n",
            "\n",
            "       R&D Spend  Administration  Marketing Spend   State  Profit  ...  \\\n",
            "0         165349          136898           471784     452  192262  ...   \n",
            "1         162598          151378           443899     413  191792  ...   \n",
            "2         153442          101146           407935     385  191050  ...   \n",
            "3         144372          118672           383200     390  182902  ...   \n",
            "4         142107           91392           366168     393  166188  ...   \n",
            "...          ...             ...              ...     ...     ...  ...   \n",
            "70078     161182          390732           350772  107617  403042  ...   \n",
            "70079     161182          390733           350773  107618  403043  ...   \n",
            "70080     161182          390734           350774  107619  403044  ...   \n",
            "70081     161182          390735           350775  107620  403045  ...   \n",
            "70082     161182          390736           350776  107621  403046  ...   \n",
            "\n",
            "            Category        ASIN Courier Status  Qty  currency  Amount  \\\n",
            "0                Set  B09KXVBD7Z        Shipped  0.0       INR   648.0   \n",
            "1              kurta  B09K3WFS32        Shipped  1.0       INR   406.0   \n",
            "2              kurta  B07WV4JV4D        Shipped  1.0       INR   329.0   \n",
            "3      Western Dress  B099NRCT7B        Shipped  0.0       INR   753.0   \n",
            "4                Top  B098714BZP        Shipped  1.0       INR   574.0   \n",
            "...              ...         ...            ...  ...       ...     ...   \n",
            "70078          kurta  B08YYSV9KT        Shipped  1.0       INR   590.0   \n",
            "70079            Set  B0894Y1W9Q        Shipped  1.0       INR  1199.0   \n",
            "70080            Set  B08YN9VTD5        Shipped  1.0       INR  1369.0   \n",
            "70081            Set  B08YNHJ96P        Shipped  1.0       INR  1099.0   \n",
            "70082            NaN         NaN            NaN  NaN       NaN     NaN   \n",
            "\n",
            "         ship-city   ship-state ship-postal-code    B2B  \n",
            "0           MUMBAI  MAHARASHTRA         400081.0  False  \n",
            "1        BENGALURU    KARNATAKA         560085.0  False  \n",
            "2      NAVI MUMBAI  MAHARASHTRA         410210.0   True  \n",
            "3       PUDUCHERRY   PUDUCHERRY         605008.0  False  \n",
            "4          CHENNAI   TAMIL NADU         600073.0  False  \n",
            "...            ...          ...              ...    ...  \n",
            "70078       MUMBAI  MAHARASHTRA         400003.0  False  \n",
            "70079        ERODE   TAMIL NADU         638011.0  False  \n",
            "70080        ERODE   TAMIL NADU         638011.0  False  \n",
            "70081        ERODE   TAMIL NADU         638011.0  False  \n",
            "70082          NaN          NaN              NaN    NaN  \n",
            "\n",
            "[70083 rows x 32 columns]>\n",
            "<bound method NDFrame.describe of        Employbl Company ID  Company_ID     Zip  Latitude  Longitude  \\\n",
            "0                        1         466   94107        38       -122   \n",
            "1                        2         457   94114        38       -122   \n",
            "2                        3         424     432        38       -122   \n",
            "3                        4         395   94103        38       -122   \n",
            "4                        5         408   94612        38       -122   \n",
            "...                    ...         ...     ...       ...        ...   \n",
            "70078                70081      107919  163100     69033          0   \n",
            "70079                70082      107920  163101     69034          0   \n",
            "70080                70083      107921  163102     69035          0   \n",
            "70081                70084      107922  163103     69036          0   \n",
            "70082                70085      107923  163104     69037          0   \n",
            "\n",
            "       R&D Spend  Administration  Marketing Spend   State  Profit  ...  \\\n",
            "0         165349          136898           471784     452  192262  ...   \n",
            "1         162598          151378           443899     413  191792  ...   \n",
            "2         153442          101146           407935     385  191050  ...   \n",
            "3         144372          118672           383200     390  182902  ...   \n",
            "4         142107           91392           366168     393  166188  ...   \n",
            "...          ...             ...              ...     ...     ...  ...   \n",
            "70078     161182          390732           350772  107617  403042  ...   \n",
            "70079     161182          390733           350773  107618  403043  ...   \n",
            "70080     161182          390734           350774  107619  403044  ...   \n",
            "70081     161182          390735           350775  107620  403045  ...   \n",
            "70082     161182          390736           350776  107621  403046  ...   \n",
            "\n",
            "            Category        ASIN Courier Status  Qty  currency  Amount  \\\n",
            "0                Set  B09KXVBD7Z        Shipped  0.0       INR   648.0   \n",
            "1              kurta  B09K3WFS32        Shipped  1.0       INR   406.0   \n",
            "2              kurta  B07WV4JV4D        Shipped  1.0       INR   329.0   \n",
            "3      Western Dress  B099NRCT7B        Shipped  0.0       INR   753.0   \n",
            "4                Top  B098714BZP        Shipped  1.0       INR   574.0   \n",
            "...              ...         ...            ...  ...       ...     ...   \n",
            "70078          kurta  B08YYSV9KT        Shipped  1.0       INR   590.0   \n",
            "70079            Set  B0894Y1W9Q        Shipped  1.0       INR  1199.0   \n",
            "70080            Set  B08YN9VTD5        Shipped  1.0       INR  1369.0   \n",
            "70081            Set  B08YNHJ96P        Shipped  1.0       INR  1099.0   \n",
            "70082            NaN         NaN            NaN  NaN       NaN     NaN   \n",
            "\n",
            "         ship-city   ship-state ship-postal-code    B2B  \n",
            "0           MUMBAI  MAHARASHTRA         400081.0  False  \n",
            "1        BENGALURU    KARNATAKA         560085.0  False  \n",
            "2      NAVI MUMBAI  MAHARASHTRA         410210.0   True  \n",
            "3       PUDUCHERRY   PUDUCHERRY         605008.0  False  \n",
            "4          CHENNAI   TAMIL NADU         600073.0  False  \n",
            "...            ...          ...              ...    ...  \n",
            "70078       MUMBAI  MAHARASHTRA         400003.0  False  \n",
            "70079        ERODE   TAMIL NADU         638011.0  False  \n",
            "70080        ERODE   TAMIL NADU         638011.0  False  \n",
            "70081        ERODE   TAMIL NADU         638011.0  False  \n",
            "70082          NaN          NaN              NaN    NaN  \n",
            "\n",
            "[70083 rows x 32 columns]>\n"
          ]
        }
      ]
    },
    {
      "cell_type": "code",
      "source": [
        "# Create target variable for classification (1 if next day's closing price is higher, 0 otherwise)\n",
        "data['Target'] = (data['Profit'].shift(-1) > data['Profit']).astype(int)"
      ],
      "metadata": {
        "id": "bx7jeP9c4f_5"
      },
      "execution_count": 7,
      "outputs": []
    },
    {
      "cell_type": "code",
      "source": [
        "# Drop rows with NaN values\n",
        "data.dropna(inplace=True)"
      ],
      "metadata": {
        "id": "cHEGLJ1X4h4F"
      },
      "execution_count": 8,
      "outputs": []
    },
    {
      "cell_type": "code",
      "source": [
        "# Gathering the Companies Strategies Information\n",
        "scaler = StandardScaler()\n",
        "scaled_data = scaler.fit_transform(data[['Profit', 'RATE', 'R&D Spend', 'Marketing Spend']])\n",
        "print(scaled_data)"
      ],
      "metadata": {
        "colab": {
          "base_uri": "https://localhost:8080/"
        },
        "id": "hNEfLjNQmBiY",
        "outputId": "6d2d0e37-8b15-4381-b320-d84aa5cdc35a"
      },
      "execution_count": 13,
      "outputs": [
        {
          "output_type": "stream",
          "name": "stdout",
          "text": [
            "[[-4.80830892 -0.75363133  0.48437262  6.27045304]\n",
            " [-4.82139555 -0.75363133  0.23303036  5.15557222]\n",
            " [-4.84205572 -0.75363133 -0.60349808  3.71768181]\n",
            " ...\n",
            " [ 1.06065529  2.40921329  0.10365899  1.43226607]\n",
            " [ 1.06068313  2.40930958  0.10365899  1.43230605]\n",
            " [ 1.06071098  2.40940588  0.10365899  1.43234603]]\n"
          ]
        }
      ]
    },
    {
      "cell_type": "code",
      "source": [
        "# Create features and target variable\n",
        "X = scaled_data[:, :-1]\n",
        "y = data['Target'].values"
      ],
      "metadata": {
        "id": "Q2FbfEIF4uiI"
      },
      "execution_count": 14,
      "outputs": []
    },
    {
      "cell_type": "code",
      "source": [
        "print(type(X))\n",
        "print(type(y))"
      ],
      "metadata": {
        "colab": {
          "base_uri": "https://localhost:8080/"
        },
        "id": "GalB4G2GUiIJ",
        "outputId": "91668917-ab8f-4e9c-8f9a-f58b2df8b82f"
      },
      "execution_count": 15,
      "outputs": [
        {
          "output_type": "stream",
          "name": "stdout",
          "text": [
            "<class 'numpy.ndarray'>\n",
            "<class 'numpy.ndarray'>\n"
          ]
        }
      ]
    },
    {
      "cell_type": "code",
      "source": [
        "# Split the data into training and testing sets\n",
        "X_train, X_test, y_train, y_test = train_test_split(X, y, test_size=0.2, random_state=42)"
      ],
      "metadata": {
        "id": "TC_srqexNyQU"
      },
      "execution_count": 16,
      "outputs": []
    },
    {
      "cell_type": "code",
      "source": [
        "print(X_train)"
      ],
      "metadata": {
        "colab": {
          "base_uri": "https://localhost:8080/"
        },
        "id": "07uEc9uhN1c3",
        "outputId": "ce524ec1-2e66-4af1-b4d5-0241bcbad66a"
      },
      "execution_count": 17,
      "outputs": [
        {
          "output_type": "stream",
          "name": "stdout",
          "text": [
            "[[-0.66121123 -0.77212074  0.10365899]\n",
            " [-0.35921633 -0.64308007  0.10365899]\n",
            " [ 0.87744246  1.77556581  0.10365899]\n",
            " ...\n",
            " [ 0.63762298  0.94614246  0.10365899]\n",
            " [-5.11904679 -0.72936398 -0.49815543]\n",
            " [-0.45082275 -0.76846137  0.10365899]]\n"
          ]
        }
      ]
    },
    {
      "cell_type": "code",
      "source": [
        "# Decision Tree\n",
        "dt_model = DecisionTreeClassifier()\n",
        "dt_model.fit(X_train, y_train)\n",
        "dt_predictions = dt_model.predict(X_test)\n",
        "dt_accuracy = accuracy_score(y_test, dt_predictions)\n",
        "print(f'Decision Tree Accuracy: {dt_accuracy}')"
      ],
      "metadata": {
        "id": "6aYm4hucN6sO",
        "colab": {
          "base_uri": "https://localhost:8080/"
        },
        "outputId": "8a8f469f-0ac9-48a7-ac27-eb911f6228bd"
      },
      "execution_count": 18,
      "outputs": [
        {
          "output_type": "stream",
          "name": "stdout",
          "text": [
            "Decision Tree Accuracy: 0.994363986587715\n"
          ]
        }
      ]
    },
    {
      "cell_type": "code",
      "source": [
        "# Random Forest\n",
        "rf_model = RandomForestClassifier()\n",
        "rf_model.fit(X_train, y_train)\n",
        "rf_predictions = rf_model.predict(X_test)\n",
        "rf_accuracy = accuracy_score(y_test, rf_predictions)\n",
        "print(f'Random Forest Accuracy: {rf_accuracy}')"
      ],
      "metadata": {
        "id": "S3qK-nD0N-ku",
        "colab": {
          "base_uri": "https://localhost:8080/"
        },
        "outputId": "e5b4c54b-1980-4666-a584-d2f5d88217b7"
      },
      "execution_count": 19,
      "outputs": [
        {
          "output_type": "stream",
          "name": "stdout",
          "text": [
            "Random Forest Accuracy: 0.9952200898908469\n"
          ]
        }
      ]
    },
    {
      "cell_type": "code",
      "source": [
        "# Logistic Regression\n",
        "lr_model = LogisticRegression()\n",
        "lr_model.fit(X_train, y_train)\n",
        "lr_predictions = lr_model.predict(X_test)\n",
        "lr_accuracy = accuracy_score(y_test, lr_predictions)\n",
        "print(f'Logistic Regression Accuracy: {lr_accuracy}')"
      ],
      "metadata": {
        "id": "4zgao2P-OBpH",
        "colab": {
          "base_uri": "https://localhost:8080/"
        },
        "outputId": "618c146f-3f9c-4e84-a9a1-73d3fbb49cb4"
      },
      "execution_count": 20,
      "outputs": [
        {
          "output_type": "stream",
          "name": "stdout",
          "text": [
            "Logistic Regression Accuracy: 0.9959335093101235\n"
          ]
        }
      ]
    },
    {
      "cell_type": "code",
      "source": [
        "# Support Vector Machine (SVM)\n",
        "svm_model = SVC()\n",
        "svm_model.fit(X_train, y_train)\n",
        "svm_predictions = svm_model.predict(X_test)\n",
        "svm_accuracy = accuracy_score(y_test, svm_predictions)\n",
        "print(f'SVM Accuracy: {svm_accuracy}')"
      ],
      "metadata": {
        "id": "joU5K8sFOEZc",
        "colab": {
          "base_uri": "https://localhost:8080/"
        },
        "outputId": "52901e81-de59-4330-c548-1d6a33e1ea47"
      },
      "execution_count": 21,
      "outputs": [
        {
          "output_type": "stream",
          "name": "stdout",
          "text": [
            "SVM Accuracy: 0.9960048512520511\n"
          ]
        }
      ]
    },
    {
      "cell_type": "code",
      "source": [
        "# K-Nearest Neighbors (KNN)\n",
        "knn_classifier = KNeighborsClassifier()\n",
        "knn_classifier.fit(X_train, y_train)\n",
        "knn_predictions = knn_classifier.predict(X_test)\n",
        "print(knn_predictions)"
      ],
      "metadata": {
        "id": "LnRbQUw-OG33",
        "colab": {
          "base_uri": "https://localhost:8080/"
        },
        "outputId": "81c48a7d-8d93-4d92-f38d-ce2fa99fc1c7"
      },
      "execution_count": 22,
      "outputs": [
        {
          "output_type": "stream",
          "name": "stdout",
          "text": [
            "[1 1 1 ... 1 1 1]\n"
          ]
        }
      ]
    },
    {
      "cell_type": "code",
      "source": [
        "# Neural Network using TensorFlow\n",
        "model = Sequential()\n",
        "model.add(Dense(64, input_dim=X_train.shape[1], activation='relu'))\n",
        "model.add(Dense(1, activation='sigmoid'))\n",
        "model.compile(optimizer='adam', loss='binary_crossentropy', metrics=['accuracy'])\n",
        "model.fit(X_train, y_train, epochs=20, batch_size=32, validation_data=(X_test, y_test))\n",
        "nn_predictions = (model.predict(X_test) > 0.5).astype(int).flatten()\n",
        "nn_accuracy = accuracy_score(y_test, nn_predictions)\n",
        "print(f'Neural Network Accuracy: {nn_accuracy}')"
      ],
      "metadata": {
        "id": "sWt0WlZU52g8",
        "colab": {
          "base_uri": "https://localhost:8080/"
        },
        "outputId": "91caa560-9a7c-40f7-9ded-a3264747a25d"
      },
      "execution_count": 41,
      "outputs": [
        {
          "output_type": "stream",
          "name": "stdout",
          "text": [
            "Epoch 1/20\n",
            "1753/1753 [==============================] - 21s 3ms/step - loss: 0.0383 - accuracy: 0.9952 - val_loss: 0.0096 - val_accuracy: 0.9956\n",
            "Epoch 2/20\n",
            "1753/1753 [==============================] - 5s 3ms/step - loss: 0.0080 - accuracy: 0.9963 - val_loss: 0.0078 - val_accuracy: 0.9961\n",
            "Epoch 3/20\n",
            "1753/1753 [==============================] - 5s 3ms/step - loss: 0.0078 - accuracy: 0.9964 - val_loss: 0.0077 - val_accuracy: 0.9961\n",
            "Epoch 4/20\n",
            "1753/1753 [==============================] - 6s 3ms/step - loss: 0.0077 - accuracy: 0.9963 - val_loss: 0.0077 - val_accuracy: 0.9959\n",
            "Epoch 5/20\n",
            "1753/1753 [==============================] - 4s 2ms/step - loss: 0.0075 - accuracy: 0.9965 - val_loss: 0.0079 - val_accuracy: 0.9961\n",
            "Epoch 6/20\n",
            "1753/1753 [==============================] - 6s 3ms/step - loss: 0.0076 - accuracy: 0.9965 - val_loss: 0.0089 - val_accuracy: 0.9954\n",
            "Epoch 7/20\n",
            "1753/1753 [==============================] - 4s 3ms/step - loss: 0.0075 - accuracy: 0.9962 - val_loss: 0.0092 - val_accuracy: 0.9953\n",
            "Epoch 8/20\n",
            "1753/1753 [==============================] - 5s 3ms/step - loss: 0.0077 - accuracy: 0.9966 - val_loss: 0.0083 - val_accuracy: 0.9959\n",
            "Epoch 9/20\n",
            "1753/1753 [==============================] - 5s 3ms/step - loss: 0.0076 - accuracy: 0.9964 - val_loss: 0.0077 - val_accuracy: 0.9959\n",
            "Epoch 10/20\n",
            "1753/1753 [==============================] - 5s 3ms/step - loss: 0.0075 - accuracy: 0.9963 - val_loss: 0.0079 - val_accuracy: 0.9958\n",
            "Epoch 11/20\n",
            "1753/1753 [==============================] - 6s 3ms/step - loss: 0.0075 - accuracy: 0.9964 - val_loss: 0.0077 - val_accuracy: 0.9961\n",
            "Epoch 12/20\n",
            "1753/1753 [==============================] - 4s 2ms/step - loss: 0.0074 - accuracy: 0.9966 - val_loss: 0.0078 - val_accuracy: 0.9962\n",
            "Epoch 13/20\n",
            "1753/1753 [==============================] - 4s 3ms/step - loss: 0.0074 - accuracy: 0.9963 - val_loss: 0.0077 - val_accuracy: 0.9961\n",
            "Epoch 14/20\n",
            "1753/1753 [==============================] - 6s 3ms/step - loss: 0.0074 - accuracy: 0.9966 - val_loss: 0.0077 - val_accuracy: 0.9961\n",
            "Epoch 15/20\n",
            "1753/1753 [==============================] - 5s 3ms/step - loss: 0.0074 - accuracy: 0.9964 - val_loss: 0.0077 - val_accuracy: 0.9959\n",
            "Epoch 16/20\n",
            "1753/1753 [==============================] - 6s 3ms/step - loss: 0.0074 - accuracy: 0.9965 - val_loss: 0.0082 - val_accuracy: 0.9958\n",
            "Epoch 17/20\n",
            "1753/1753 [==============================] - 5s 3ms/step - loss: 0.0074 - accuracy: 0.9966 - val_loss: 0.0077 - val_accuracy: 0.9960\n",
            "Epoch 18/20\n",
            "1753/1753 [==============================] - 5s 3ms/step - loss: 0.0074 - accuracy: 0.9965 - val_loss: 0.0077 - val_accuracy: 0.9961\n",
            "Epoch 19/20\n",
            "1753/1753 [==============================] - 6s 3ms/step - loss: 0.0074 - accuracy: 0.9964 - val_loss: 0.0080 - val_accuracy: 0.9959\n",
            "Epoch 20/20\n",
            "1753/1753 [==============================] - 5s 3ms/step - loss: 0.0072 - accuracy: 0.9967 - val_loss: 0.0079 - val_accuracy: 0.9961\n",
            "439/439 [==============================] - 1s 2ms/step\n",
            "Neural Network Accuracy: 0.9961475351359064\n"
          ]
        }
      ]
    },
    {
      "cell_type": "code",
      "source": [
        "# Deep Learning with Keras\n",
        "model = Sequential()\n",
        "model.add(Dense(units=64, activation='relu', input_dim=X_train.shape[1]))\n",
        "model.add(Dense(units=32, activation='relu'))\n",
        "model.add(Dense(units=1, activation='sigmoid'))\n",
        "model.compile(optimizer='adam', loss='binary_crossentropy', metrics=['accuracy'])\n",
        "model.fit(X_train, y_train, epochs=10, batch_size=32, verbose=1)\n",
        "dl_predictions = (model.predict(X_test) > 0.5).astype(int).flatten()\n",
        "dl_accuracy = accuracy_score(y_test, dl_predictions)\n",
        "print(f'DL Accuracy: {dl_accuracy}')"
      ],
      "metadata": {
        "id": "kobdVdf9OJdV",
        "colab": {
          "base_uri": "https://localhost:8080/"
        },
        "outputId": "f52a3fea-325f-4e17-86dc-0387d4e84055"
      },
      "execution_count": 33,
      "outputs": [
        {
          "output_type": "stream",
          "name": "stdout",
          "text": [
            "Epoch 1/10\n",
            "1753/1753 [==============================] - 6s 2ms/step - loss: 0.0271 - accuracy: 0.9926\n",
            "Epoch 2/10\n",
            "1753/1753 [==============================] - 5s 3ms/step - loss: 0.0080 - accuracy: 0.9962\n",
            "Epoch 3/10\n",
            "1753/1753 [==============================] - 4s 2ms/step - loss: 0.0077 - accuracy: 0.9964\n",
            "Epoch 4/10\n",
            "1753/1753 [==============================] - 4s 2ms/step - loss: 0.0076 - accuracy: 0.9963\n",
            "Epoch 5/10\n",
            "1753/1753 [==============================] - 5s 3ms/step - loss: 0.0074 - accuracy: 0.9965\n",
            "Epoch 6/10\n",
            "1753/1753 [==============================] - 4s 2ms/step - loss: 0.0074 - accuracy: 0.9965\n",
            "Epoch 7/10\n",
            "1753/1753 [==============================] - 4s 2ms/step - loss: 0.0073 - accuracy: 0.9965\n",
            "Epoch 8/10\n",
            "1753/1753 [==============================] - 5s 3ms/step - loss: 0.0074 - accuracy: 0.9965\n",
            "Epoch 9/10\n",
            "1753/1753 [==============================] - 4s 2ms/step - loss: 0.0074 - accuracy: 0.9965\n",
            "Epoch 10/10\n",
            "1753/1753 [==============================] - 4s 2ms/step - loss: 0.0073 - accuracy: 0.9966\n",
            "439/439 [==============================] - 2s 4ms/step\n",
            "DL Accuracy: 0.9957908254262681\n"
          ]
        }
      ]
    },
    {
      "cell_type": "code",
      "source": [
        "# Evaluation\n",
        "print(\"Random Forest Classifier Accuracy:\", accuracy_score(y_test, rf_predictions))\n",
        "print(\"Logistic Regression Accuracy:\", accuracy_score(y_test, lr_predictions))\n",
        "print(\"SVM Accuracy:\", accuracy_score(y_test, svm_predictions))\n",
        "print(\"KNN Accuracy:\", accuracy_score(y_test, knn_predictions))\n",
        "print(\"Deep Learning Accuracy:\", accuracy_score(y_test, dl_predictions))\n",
        "print(f'Decision Tree Accuracy: {dt_accuracy}')\n",
        "print(\"DL Accuracy:\", accuracy_score(y_test, dl_predictions))"
      ],
      "metadata": {
        "id": "iHJ1rD4_OOCB",
        "colab": {
          "base_uri": "https://localhost:8080/"
        },
        "outputId": "0fd73bf0-3ae2-4700-8e2d-3fb49babe637"
      },
      "execution_count": 40,
      "outputs": [
        {
          "output_type": "stream",
          "name": "stdout",
          "text": [
            "Random Forest Classifier Accuracy: 0.9952200898908469\n",
            "Logistic Regression Accuracy: 0.9959335093101235\n",
            "SVM Accuracy: 0.9960048512520511\n",
            "KNN Accuracy: 0.9957908254262681\n",
            "Deep Learning Accuracy: 0.9957908254262681\n",
            "Decision Tree Accuracy: 0.994363986587715\n",
            "DL Accuracy: 0.9957908254262681\n"
          ]
        }
      ]
    },
    {
      "cell_type": "code",
      "source": [
        "# Confusion Matrix :\n",
        "print(\"\\nConfusion Matrix for #RandomForestClassifier:\")\n",
        "print(confusion_matrix(y_test, rf_predictions))"
      ],
      "metadata": {
        "id": "XoidlIFkOVBv",
        "colab": {
          "base_uri": "https://localhost:8080/"
        },
        "outputId": "208d20c7-c479-4bb7-a063-10823d48f267"
      },
      "execution_count": 46,
      "outputs": [
        {
          "output_type": "stream",
          "name": "stdout",
          "text": [
            "\n",
            "Confusion Matrix for #RandomForestClassifier:\n",
            "[[   77    27]\n",
            " [   40 13873]]\n"
          ]
        }
      ]
    },
    {
      "cell_type": "code",
      "source": [
        "# Confusion Matrix :\n",
        "print(\"\\nConfusion Matrix for #Logistic Regression :\")\n",
        "print(confusion_matrix(y_test, lr_predictions))"
      ],
      "metadata": {
        "id": "7qz3tSPCOXzv",
        "colab": {
          "base_uri": "https://localhost:8080/"
        },
        "outputId": "825129d5-b760-4b4a-c1eb-2a06d0c8b5f0"
      },
      "execution_count": 47,
      "outputs": [
        {
          "output_type": "stream",
          "name": "stdout",
          "text": [
            "\n",
            "Confusion Matrix for #Logistic Regression :\n",
            "[[   76    28]\n",
            " [   29 13884]]\n"
          ]
        }
      ]
    },
    {
      "cell_type": "code",
      "source": [
        "# Confusion Matrix :\n",
        "print(\"\\nConfusion Matrix for #Support Vector Machine:\")\n",
        "print(confusion_matrix(y_test, svm_predictions))"
      ],
      "metadata": {
        "id": "tM3B861gOaj8",
        "colab": {
          "base_uri": "https://localhost:8080/"
        },
        "outputId": "ff2d0984-e76c-45fa-fd73-ee984ed0bf6b"
      },
      "execution_count": 48,
      "outputs": [
        {
          "output_type": "stream",
          "name": "stdout",
          "text": [
            "\n",
            "Confusion Matrix for #Support Vector Machine:\n",
            "[[   75    29]\n",
            " [   27 13886]]\n"
          ]
        }
      ]
    },
    {
      "cell_type": "code",
      "source": [
        "# Confusion Matrix :\n",
        "print(\"\\nConfusion Matrix for #KNeighborsClassifier:\")\n",
        "print(confusion_matrix(y_test, knn_predictions))"
      ],
      "metadata": {
        "id": "0OskEJOFOdXf",
        "colab": {
          "base_uri": "https://localhost:8080/"
        },
        "outputId": "25d0e99e-8cd4-4136-af3a-5ec366daf72c"
      },
      "execution_count": 50,
      "outputs": [
        {
          "output_type": "stream",
          "name": "stdout",
          "text": [
            "\n",
            "Confusion Matrix for #KNeighborsClassifier:\n",
            "[[   75    29]\n",
            " [   30 13883]]\n"
          ]
        }
      ]
    },
    {
      "cell_type": "code",
      "source": [
        "# Splitting the dataset into the Training set and Test set\n",
        "X_train, X_test, y_train, y_test = train_test_split(X, y, test_size=0.4, random_state=54)\n",
        "# Feature Scaling\n",
        "sc = StandardScaler()\n",
        "X_train = sc.fit_transform(X_train)\n",
        "X_test = sc.transform(X_test)\n",
        "print(X_test)"
      ],
      "metadata": {
        "id": "c9dNoBS7pfpa",
        "colab": {
          "base_uri": "https://localhost:8080/"
        },
        "outputId": "f7e6fed6-8c3d-46fb-8e7d-45121563fc6a"
      },
      "execution_count": 53,
      "outputs": [
        {
          "output_type": "stream",
          "name": "stdout",
          "text": [
            "[[ 0.7320485   1.27880309  0.10381768]\n",
            " [ 0.25220455 -0.38371633  0.10381768]\n",
            " [ 0.4809069   0.40867065  0.10381768]\n",
            " ...\n",
            " [ 0.58359356  0.76445     0.10381768]\n",
            " [-0.37320254 -0.75009296  0.10381768]\n",
            " [ 0.83150969  1.62340713  0.10381768]]\n"
          ]
        }
      ]
    },
    {
      "cell_type": "code",
      "source": [
        "'''Implement and train SVM model'''\n",
        "svm_model = SVC(kernel='linear')\n",
        "svm_model.fit(X_train, y_train)\n",
        "svm_accuracy = svm_model.score(X_test, y_test)\n",
        "print(\"SVM Accuracy:\", svm_accuracy)"
      ],
      "metadata": {
        "id": "e2whAQc_Ojno",
        "colab": {
          "base_uri": "https://localhost:8080/"
        },
        "outputId": "5bca46ed-bd62-4951-b5d3-7c1530643bd2"
      },
      "execution_count": 54,
      "outputs": [
        {
          "output_type": "stream",
          "name": "stdout",
          "text": [
            "SVM Accuracy: 0.9964684479006884\n"
          ]
        }
      ]
    },
    {
      "cell_type": "code",
      "source": [
        "'''Implement and train CNN model'''\n",
        "\n",
        "X_train_cnn = X_train.reshape(X_train.shape[0], X_train.shape[1], 1)\n",
        "X_test_cnn = X_test.reshape(X_test.shape[0], X_test.shape[1], 1)\n",
        "print(X_train_cnn)\n",
        "print(X_test_cnn)"
      ],
      "metadata": {
        "id": "HhdUkeWzOnJd",
        "colab": {
          "base_uri": "https://localhost:8080/"
        },
        "outputId": "d0e950a7-bbba-42f2-c083-df5f94c97b78"
      },
      "execution_count": 55,
      "outputs": [
        {
          "output_type": "stream",
          "name": "stdout",
          "text": [
            "[[[ 0.92048812]\n",
            "  [ 1.93169143]\n",
            "  [ 0.10381768]]\n",
            "\n",
            " [[ 0.67991271]\n",
            "  [ 1.09816775]\n",
            "  [ 0.10381768]]\n",
            "\n",
            " [[-0.49874553]\n",
            "  [-0.7717692 ]\n",
            "  [ 0.10381768]]\n",
            "\n",
            " ...\n",
            "\n",
            " [[-0.56770381]\n",
            "  [-0.6832338 ]\n",
            "  [ 0.10381768]]\n",
            "\n",
            " [[-0.74680069]\n",
            "  [-0.77119116]\n",
            "  [ 0.10381768]]\n",
            "\n",
            " [[ 0.81187883]\n",
            "  [ 1.55539191]\n",
            "  [ 0.10381768]]]\n",
            "[[[ 0.7320485 ]\n",
            "  [ 1.27880309]\n",
            "  [ 0.10381768]]\n",
            "\n",
            " [[ 0.25220455]\n",
            "  [-0.38371633]\n",
            "  [ 0.10381768]]\n",
            "\n",
            " [[ 0.4809069 ]\n",
            "  [ 0.40867065]\n",
            "  [ 0.10381768]]\n",
            "\n",
            " ...\n",
            "\n",
            " [[ 0.58359356]\n",
            "  [ 0.76445   ]\n",
            "  [ 0.10381768]]\n",
            "\n",
            " [[-0.37320254]\n",
            "  [-0.75009296]\n",
            "  [ 0.10381768]]\n",
            "\n",
            " [[ 0.83150969]\n",
            "  [ 1.62340713]\n",
            "  [ 0.10381768]]]\n"
          ]
        }
      ]
    },
    {
      "cell_type": "code",
      "source": [
        "# Step 6: Visualize the results\n",
        "# Assuming you have predictions from both models\n",
        "svm_predictions = svm_model.predict(X_test)\n",
        "print(svm_predictions)"
      ],
      "metadata": {
        "id": "o2Grcm59OyoA",
        "colab": {
          "base_uri": "https://localhost:8080/"
        },
        "outputId": "83a8baa3-6eb2-4fd9-dcf0-83117b60bc2a"
      },
      "execution_count": 56,
      "outputs": [
        {
          "output_type": "stream",
          "name": "stdout",
          "text": [
            "[1 1 1 ... 1 1 1]\n"
          ]
        }
      ]
    },
    {
      "cell_type": "code",
      "source": [
        "# Plotting SVM predictions\n",
        "plt.figure(figsize=(10, 5))\n",
        "plt.subplot(1, 2, 1)\n",
        "plt.scatter(range(len(y_test)), y_test, label='Actual', color='blue')\n",
        "plt.scatter(range(len(svm_predictions)), svm_predictions, label='Predicted (SVM)', color='red')\n",
        "plt.title('SVM Predictions')\n",
        "plt.legend()"
      ],
      "metadata": {
        "id": "tT8AmgBuO1_a",
        "colab": {
          "base_uri": "https://localhost:8080/",
          "height": 485
        },
        "outputId": "5cbf92d0-bc85-4a8c-87c6-2adf92a70e9a"
      },
      "execution_count": 57,
      "outputs": [
        {
          "output_type": "execute_result",
          "data": {
            "text/plain": [
              "<matplotlib.legend.Legend at 0x7b43c8156f20>"
            ]
          },
          "metadata": {},
          "execution_count": 57
        },
        {
          "output_type": "display_data",
          "data": {
            "text/plain": [
              "<Figure size 1000x500 with 1 Axes>"
            ],
            "image/png": "[encoded data removed]"
          },
          "metadata": {}
        }
      ]
    },
    {
      "cell_type": "code",
      "source": [
        "# Plotting LR predictions\n",
        "plt.subplot(1, 2, 2)\n",
        "plt.scatter(range(len(y_test)), y_test, label='Actual', color='blue')\n",
        "plt.scatter(range(len(lr_predictions)), lr_predictions, label='Predicted (LR)', color='green')\n",
        "plt.title('LR Predictions')\n",
        "plt.legend()\n",
        "plt.show()"
      ],
      "metadata": {
        "id": "QE-YsqTUO66v",
        "colab": {
          "base_uri": "https://localhost:8080/",
          "height": 452
        },
        "outputId": "fc828e1d-866b-4261-c3c9-4e0372e17822"
      },
      "execution_count": 58,
      "outputs": [
        {
          "output_type": "display_data",
          "data": {
            "text/plain": [
              "<Figure size 640x480 with 1 Axes>"
            ],
            "image/png": "[encoded data removed]"
          },
          "metadata": {}
        }
      ]
    },
    {
      "cell_type": "code",
      "source": [
        "# Plotting RF predictions\n",
        "plt.subplot(1, 2, 2)\n",
        "plt.scatter(range(len(y_test)), y_test, label='Actual', color='red')\n",
        "plt.scatter(range(len(rf_predictions)), rf_predictions, label='Predicted (RF)', color='yellow')\n",
        "plt.title('RF Predictions')\n",
        "plt.legend()\n",
        "plt.show()"
      ],
      "metadata": {
        "colab": {
          "base_uri": "https://localhost:8080/",
          "height": 452
        },
        "id": "dkDEn5Mcq_d-",
        "outputId": "cd5b951f-5468-490a-81b9-fe6b2428f696"
      },
      "execution_count": 59,
      "outputs": [
        {
          "output_type": "display_data",
          "data": {
            "text/plain": [
              "<Figure size 640x480 with 1 Axes>"
            ],
            "image/png": "[encoded data removed]"
          },
          "metadata": {}
        }
      ]
    },
    {
      "cell_type": "code",
      "source": [
        "# Plotting DT predictions\n",
        "plt.subplot(1, 2, 2)\n",
        "plt.scatter(range(len(y_test)), y_test, label='Actual', color='green')\n",
        "plt.scatter(range(len(dt_predictions)), dt_predictions, label='Predicted (DT)', color='purple')\n",
        "plt.title('LR Predictions')\n",
        "plt.legend()\n",
        "plt.show()"
      ],
      "metadata": {
        "colab": {
          "base_uri": "https://localhost:8080/",
          "height": 452
        },
        "id": "WpCtB5uTrIp2",
        "outputId": "fd3d2610-6cdc-4406-d3da-0468be5211f4"
      },
      "execution_count": 60,
      "outputs": [
        {
          "output_type": "display_data",
          "data": {
            "text/plain": [
              "<Figure size 640x480 with 1 Axes>"
            ],
            "image/png": "[encoded data removed]"
          },
          "metadata": {}
        }
      ]
    },
    {
      "cell_type": "code",
      "source": [
        "# Plotting SVM predictions\n",
        "plt.subplot(1, 2, 2)\n",
        "plt.scatter(range(len(y_test)), y_test, label='Actual', color='orange')\n",
        "plt.scatter(range(len(svm_predictions)), svm_predictions, label='Predicted (SVM)', color='pink')\n",
        "plt.title('SVM Predictions')\n",
        "plt.legend()\n",
        "plt.show()"
      ],
      "metadata": {
        "colab": {
          "base_uri": "https://localhost:8080/",
          "height": 452
        },
        "id": "aIpb2hWzrla8",
        "outputId": "85bfbc50-96de-4243-cb16-0fe6618ef331"
      },
      "execution_count": 61,
      "outputs": [
        {
          "output_type": "display_data",
          "data": {
            "text/plain": [
              "<Figure size 640x480 with 1 Axes>"
            ],
            "image/png": "[encoded data removed]"
          },
          "metadata": {}
        }
      ]
    },
    {
      "cell_type": "code",
      "source": [
        "# Plotting KNN predictions\n",
        "plt.subplot(1, 2, 2)\n",
        "plt.scatter(range(len(y_test)), y_test, label='Actual', color='blue')\n",
        "plt.scatter(range(len(knn_predictions)), knn_predictions, label='Predicted (KNN)', color='orange')\n",
        "plt.title('KNN Predictions')\n",
        "plt.legend()\n",
        "plt.show()"
      ],
      "metadata": {
        "colab": {
          "base_uri": "https://localhost:8080/",
          "height": 452
        },
        "id": "Obh_M0Vor8cp",
        "outputId": "c6b11398-a47d-4b8b-de83-b8885a58c852"
      },
      "execution_count": 62,
      "outputs": [
        {
          "output_type": "display_data",
          "data": {
            "text/plain": [
              "<Figure size 640x480 with 1 Axes>"
            ],
            "image/png": "[encoded data removed]"
          },
          "metadata": {}
        }
      ]
    },
    {
      "cell_type": "code",
      "source": [
        "# Plotting DL predictions\n",
        "plt.subplot(1, 2, 2)\n",
        "plt.scatter(range(len(y_test)), y_test, label='Actual', color='green')\n",
        "plt.scatter(range(len(dl_predictions)), dl_predictions, label='Predicted (DL)', color='purple')\n",
        "plt.title('DL Predictions')\n",
        "plt.legend()\n",
        "plt.show()"
      ],
      "metadata": {
        "colab": {
          "base_uri": "https://localhost:8080/",
          "height": 452
        },
        "id": "XXNe-xxhsJ_e",
        "outputId": "96787e56-df3b-4eb9-9e70-5f0a01a9a043"
      },
      "execution_count": 63,
      "outputs": [
        {
          "output_type": "display_data",
          "data": {
            "text/plain": [
              "<Figure size 640x480 with 1 Axes>"
            ],
            "image/png": "[encoded data removed]"
          },
          "metadata": {}
        }
      ]
    }
  ]
}